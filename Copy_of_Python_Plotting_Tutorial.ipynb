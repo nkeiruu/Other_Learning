{
  "nbformat": 4,
  "nbformat_minor": 0,
  "metadata": {
    "colab": {
      "name": "Copy of Python Plotting Tutorial",
      "provenance": [],
      "collapsed_sections": [],
      "include_colab_link": true
    },
    "kernelspec": {
      "name": "python3",
      "display_name": "Python 3"
    }
  },
  "cells": [
    {
      "cell_type": "markdown",  03qsZAXSDF/;KL.J zNM
_IWSXCD VBNM,
W    
      "metadata": {
        "id": "view-in-github",
        "colab_type": "text"
      },
      "source": [
        "<a href=\"https://colab.research.google.com/github/nkeiruu/Other_Learning/blob/main/Copy_of_Python_Plotting_Tutorial.ipynb\" target=\"_parent\"><img src=\"https://colab.research.google.com/assets/colab-badge.svg\" alt=\"Open In Colab\"/></a>"
      ]
    },
    {
      "cell_type": "markdown",
      "metadata": {
        "id": "hv1VGwZuTuoc"
      },
      "source": [
        "# Python Plotting Tutorial (From Stony Brook University Society of Physics Student Meeting, Feb 17 2021) \r\n",
        "\r\n",
        "When we want to perform analysis on lots of data and visualize the results, computers are invaluable. But in order to use them, we need to know how to use the requisite tools.\r\n",
        "\r\n",
        "There are lots of ways to do analysis and plot data, but one of the most popular is with Python and Matplotlib. They're not too hard to learn, look pretty, and are super valuable.\r\n",
        "\r\n",
        "For this tutorial, we'll assume you've probably used a programming language before, but we'll go through a *tour de force* of programming basics anyways. This will help show off some of the basic features of Python as a language and how to use it.\r\n",
        "\r\n",
        "In order to actually use Python for physics though, we'll need to see how we can manipulate data and plot it, and this will make up the second part of this tutorial.\r\n",
        "\r\n",
        "By the end of the hour, you should hopefully know some of the following:\r\n",
        "\r\n",
        "\r\n",
        "1. Basics of Python\r\n",
        "  - Basic syntax\r\n",
        "  - How to assign and use variables\r\n",
        "  - What lists are and how to use them\r\n",
        "  - How to declare and use functions\r\n",
        "2. Basics of numpy\r\n",
        "  - What is numpy and why is it useful?\r\n",
        "  - How to use numpy arrays\r\n",
        "3. Matplotlib\r\n",
        "  - Making simple plots with `matplotlib`\r\n",
        "  - Getting your data into a nice format\r\n",
        "4. Scipy\r\n",
        "  - Fitting data with errors to arbitrary functions\r\n",
        "  - Representing the results of fitting in `matplotlib`\r\n",
        "\r\n"
      ]
    },
    {
      "cell_type": "markdown",
      "metadata": {
        "id": "f_E2qqL8YSBh"
      },
      "source": [
        "## Python\r\n",
        "\r\n",
        "# Introduction\r\n",
        "Python is one of the most widely used programming languages, and has a particular presence in data analysis due to its ease of use and nice ecosystem. There are [tons](https://docs.python.org/3/tutorial/) of [different](https://www.coursera.org/specializations/python) Python [tutorials](http://prancer.physics.louisville.edu/astrowiki/index.php/Python_for_Physics_and_Astronomy) out there, of varying quality and price. There's also quite a few courses at Stony Brook about it (PHY 153, CSE 101, etc.). For this tutorial, we'll go through the basics pretty quickly.\r\n",
        "\r\n",
        "# Variables\r\n",
        "One of the main components of any progrmaming language are *variables*, where we store and manipulate values. You may have used variables in Fortran or C++ before, and in principle they're the same in Python, but with one major difference.\r\n",
        "\r\n",
        "In Python, variables are *dynamically typed* as opposed to *statically typed*, meaning that we don't have to explicitly declare variables and their types (no obnoxious dictionary at the top, yay!).\r\n",
        "\r\n",
        "To illustrate this, let's use the most minimal example and assign a value of $5$ to a variable $x$."
      ]
    },
    {
      "cell_type": "code",
      "metadata": {
        "colab": {
          "base_uri": "https://localhost:8080/"
        },
        "id": "TUE6EQOxTqb-",
        "outputId": "92829bb6-72d9-4df4-88b7-44e305ecb30b"
      },
      "source": [
        "# In C++, would be int x = 5;\r\n",
        "x = 5\r\n",
        "\r\n",
        "print(x)"
      ],
      "execution_count": null,
      "outputs": [
        {
          "output_type": "stream",
          "text": [
            "5\n"
          ],
          "name": "stdout"
        }
      ]
    },
    {
      "cell_type": "markdown",
      "metadata": {
        "id": "Zff2hgataheQ"
      },
      "source": [
        "I used two important features here without actually explaining them. The first is a comment, which isn't actually executed by the interpreter and allows a programmer to commentate the code. In Python, you can start comments with the `#` character, and the rest of the line is ignored. For multiline comments, you can separate them with three apostrophes, like below."
      ]
    },
    {
      "cell_type": "code",
      "metadata": {
        "colab": {
          "base_uri": "https://localhost:8080/",
          "height": 36
        },
        "id": "6CB-BZYvbMA0",
        "outputId": "73d0ad8e-f02b-4340-af58-d4a069e2aece"
      },
      "source": [
        "# This is a comment\r\n",
        "'''\r\n",
        "This is also a comment\r\n",
        "and won't do anything\r\n",
        "'''"
      ],
      "execution_count": null,
      "outputs": [
        {
          "output_type": "execute_result",
          "data": {
            "application/vnd.google.colaboratory.intrinsic+json": {
              "type": "string"
            },
            "text/plain": [
              "\"\\nThis is also a comment\\nand won't do anything\\n\""
            ]
          },
          "metadata": {
            "tags": []
          },
          "execution_count": 65
        }
      ]
    },
    {
      "cell_type": "markdown",
      "metadata": {
        "id": "NpOdWVezbRwe"
      },
      "source": [
        "The second thing used is the `print` function, which simply prints something to your console.\r\n",
        "\r\n",
        "We can do some basic arithmetic on numeric variables."
      ]
    },
    {
      "cell_type": "code",
      "metadata": {
        "colab": {
          "base_uri": "https://localhost:8080/"
        },
        "id": "B2U1Us-zcmjQ",
        "outputId": "ccb6a78c-573d-4c2d-df83-781393186edd"
      },
      "source": [
        "x = 3\r\n",
        "y = 5\r\n",
        "\r\n",
        "print('x + y =', x+y)\r\n",
        "print('x - y =', x-y)\r\n",
        "print('x * y =', x*y)\r\n",
        "print('x / y =', x/y)\r\n",
        "print('x^y =', x**y) # Note exponents use ** and NOT ^"
      ],
      "execution_count": null,
      "outputs": [
        {
          "output_type": "stream",
          "text": [
            "x + y = 8\n",
            "x - y = -2\n",
            "x * y = 15\n",
            "x / y = 0.6\n",
            "x^y = 243\n"
          ],
          "name": "stdout"
        }
      ]
    },
    {
      "cell_type": "markdown",
      "metadata": {
        "id": "yQKXowTMc0_L"
      },
      "source": [
        "If you've used another programming language, you're probably not familiar with this behavior of $/ \\colon \\texttt{int} \\times \\texttt{int} \\to \\texttt{float}$, and instead it being Euclidean division. In Python, this Euclidean division still exists, but instead as the operator `//`. As with other languages, the modulus operator is `%`."
      ]
    },
    {
      "cell_type": "code",
      "metadata": {
        "colab": {
          "base_uri": "https://localhost:8080/"
        },
        "id": "lb6YJWu4dQLp",
        "outputId": "bbff01fc-414c-405d-ed72-ec563ec40c46"
      },
      "source": [
        "print('Normal divsion: x / y =', x/y)\r\n",
        "print('Euclidean division: x // y =', x//y)\r\n",
        "print('Modulus: x % y =', x%y)"
      ],
      "execution_count": null,
      "outputs": [
        {
          "output_type": "stream",
          "text": [
            "Normal divsion: x / y = 0.6\n",
            "Euclidean division: x // y = 0\n",
            "Modulus: x % y = 3\n"
          ],
          "name": "stdout"
        }
      ]
    },
    {
      "cell_type": "markdown",
      "metadata": {
        "id": "ZaA83MNLck5T"
      },
      "source": [
        "We can assign variables for other types of variables as well. Here's a few short (and highly-nonexhaustive) list of examples."
      ]
    },
    {
      "cell_type": "code",
      "metadata": {
        "id": "W78KZnrkafRQ"
      },
      "source": [
        "a_string = 'hello, world'\r\n",
        "complex_number = 1+3j\r\n",
        "floating_point_number = 3.0\r\n",
        "list_of_numbers = [1.0, 3.0, 9.7]"
      ],
      "execution_count": null,
      "outputs": []
    },
    {
      "cell_type": "markdown",
      "metadata": {
        "id": "UN2jkaBkbzQN"
      },
      "source": [
        "The last thing here brings us to our next section.\r\n",
        "\r\n",
        "# Lists\r\n",
        "We're often concerned about a sequence of data points instead of a single point. For example, maybe we want to find the sum of two data points."
      ]
    },
    {
      "cell_type": "code",
      "metadata": {
        "colab": {
          "base_uri": "https://localhost:8080/"
        },
        "id": "sOF8wHDbbyTs",
        "outputId": "422b6d76-4143-4f61-d16e-243a333e086b"
      },
      "source": [
        "x_1 = 5\r\n",
        "x_2 = 7\r\n",
        "\r\n",
        "print(x_1 + x_2)"
      ],
      "execution_count": null,
      "outputs": [
        {
          "output_type": "stream",
          "text": [
            "12\n"
          ],
          "name": "stdout"
        }
      ]
    },
    {
      "cell_type": "markdown",
      "metadata": {
        "id": "0FvuXTNzd_Vr"
      },
      "source": [
        "But now what if we have more (say, 20) data points? This `x_i` thing would get unweildy quickly. Instead, we use *lists* of data: in Python, a list is declared using square brackets with each *element* comma separated inside. To access or modify a given element, we put the index in square brackets. This is easier to see in an example.\r\n",
        "\r\n",
        "One important note is that lists in Python are *0-indexed*, meaning the first element is actually index 0. This is juxtaposed to the default in languages like Fortran and MATLAB."
      ]
    },
    {
      "cell_type": "code",
      "metadata": {
        "colab": {
          "base_uri": "https://localhost:8080/"
        },
        "id": "v5Z5h4lzd-jP",
        "outputId": "1f1cc15a-b219-46b5-9d6c-66158660bb44"
      },
      "source": [
        "# Declare a list\r\n",
        "x_values = [3.2, 3.5, 3.9, 4.2, 4.4, 4.6, 5.0]\r\n",
        "\r\n",
        "# Access the second element\r\n",
        "print('x[1] =', x_values[1])\r\n",
        "\r\n",
        "# Change the second element to 4 and print again\r\n",
        "x_values[1] = 4\r\n",
        "print('x[1] =', x_values[2])\r\n",
        "\r\n",
        "# Print whole list\r\n",
        "print('x_values =', x_values)"
      ],
      "execution_count": null,
      "outputs": [
        {
          "output_type": "stream",
          "text": [
            "x[1] = 3.5\n",
            "x[1] = 3.9\n",
            "x_values = [3.2, 4, 3.9, 4.2, 4.4, 4.6, 5.0]\n"
          ],
          "name": "stdout"
        }
      ]
    },
    {
      "cell_type": "markdown",
      "metadata": {
        "id": "OgkcKwaOe_y0"
      },
      "source": [
        "A useful feature in Python is *negative indexing*, or the ability to access the `i`th-from-last element. This is equivalent to finding the length of the list with `len(list_name)` and subtracting off 1."
      ]
    },
    {
      "cell_type": "code",
      "metadata": {
        "colab": {
          "base_uri": "https://localhost:8080/"
        },
        "id": "44GDtXt-d95L",
        "outputId": "6d2528d3-a9e7-45b1-b686-11718d8022f3"
      },
      "source": [
        "print('Last element:', x_values[-1])\r\n",
        "print('Last element again:', x_values[len(x_values) - 1])"
      ],
      "execution_count": null,
      "outputs": [
        {
          "output_type": "stream",
          "text": [
            "Last element: 5.0\n",
            "Last element again: 5.0\n"
          ],
          "name": "stdout"
        }
      ]
    },
    {
      "cell_type": "markdown",
      "metadata": {
        "id": "OgrRJXi2f8VY"
      },
      "source": [
        "We can also *splice*, or get a specified sublist. This also works with negative indexing."
      ]
    },
    {
      "cell_type": "code",
      "metadata": {
        "colab": {
          "base_uri": "https://localhost:8080/"
        },
        "id": "3Kj1XhlIf7aN",
        "outputId": "f352772a-199b-4ae9-d33a-625b09a5edcf"
      },
      "source": [
        "# Print every element\r\n",
        "print(x_values)\r\n",
        "\r\n",
        "# Print the second to fifth elements\r\n",
        "print(x_values[1:4])\r\n",
        "\r\n",
        "# Print all elements but the first and last\r\n",
        "print(x_values[1:-1])"
      ],
      "execution_count": null,
      "outputs": [
        {
          "output_type": "stream",
          "text": [
            "[3.2, 4, 3.9, 4.2, 4.4, 4.6, 5.0]\n",
            "[4, 3.9, 4.2]\n",
            "[4, 3.9, 4.2, 4.4, 4.6]\n"
          ],
          "name": "stdout"
        }
      ]
    },
    {
      "cell_type": "markdown",
      "metadata": {
        "id": "K-tuniKBgU1O"
      },
      "source": [
        "Now say we still want to find the sum of the elements in `x_values`. We can iterate over each element in `x_values` to get the sum using a `for` loop. In Python, we use indentation to indicate scope inside of some control statement, but more about this in a bit."
      ]
    },
    {
      "cell_type": "code",
      "metadata": {
        "colab": {
          "base_uri": "https://localhost:8080/"
        },
        "id": "krP5-b2Gf1bL",
        "outputId": "424448d8-dcf7-412c-a0f2-1d8410a9b7ae"
      },
      "source": [
        "total = 0\r\n",
        "\r\n",
        "for x in x_values:\r\n",
        "  total += x # shorthand for total = total + x\r\n",
        "\r\n",
        "print(total)"
      ],
      "execution_count": null,
      "outputs": [
        {
          "output_type": "stream",
          "text": [
            "29.300000000000004\n"
          ],
          "name": "stdout"
        }
      ]
    },
    {
      "cell_type": "markdown",
      "metadata": {
        "id": "bWhag5nMgwxq"
      },
      "source": [
        "This number looks a little weird, but that's okay --- the same way we can't write down the decimals of $\\frac{1}{3}$ finitely, a computer can't finitely store a number like $3.2$ accurately, so we end up with some rather small error.\r\n",
        "\r\n",
        "Python generally has nice shorthand for things, including the sum of a list. In fact, we just as easily could've written"
      ]
    },
    {
      "cell_type": "code",
      "metadata": {
        "colab": {
          "base_uri": "https://localhost:8080/"
        },
        "id": "U7AHrxF3gu5F",
        "outputId": "a58634fc-176a-40d0-85b4-35f49bfdf069"
      },
      "source": [
        "sum(x_values)"
      ],
      "execution_count": null,
      "outputs": [
        {
          "output_type": "execute_result",
          "data": {
            "text/plain": [
              "29.300000000000004"
            ]
          },
          "metadata": {
            "tags": []
          },
          "execution_count": 74
        }
      ]
    },
    {
      "cell_type": "markdown",
      "metadata": {
        "id": "dHQGmudBiKAY"
      },
      "source": [
        "... but this wouldn't have been as instructive ;)"
      ]
    },
    {
      "cell_type": "markdown",
      "metadata": {
        "id": "RbuZpjCoiN7q"
      },
      "source": [
        "# Control Flow\r\n",
        "At the heart of any programming are *control flow statements*. They tell the code where to go and what to do. Perhaps the most basic (and important) of these is the `if` statement. It executes code contained in it if and only if its *statement* is `True`.\r\n",
        "\r\n",
        "For an example, let's take in some input and print something precisely when the input is greater than $5$."
      ]
    },
    {
      "cell_type": "code",
      "metadata": {
        "colab": {
          "base_uri": "https://localhost:8080/"
        },
        "id": "9020KJVMg8Q9",
        "outputId": "6b66f0d9-fba4-40b1-eb3a-a9bec5db2ba8"
      },
      "source": [
        "# Prompt the user and store their response as an integer\r\n",
        "x = int(input('Enter a number: '))\r\n",
        "\r\n",
        "if x > 5:\r\n",
        "  print('x is greater than 5.')"
      ],
      "execution_count": null,
      "outputs": [
        {
          "output_type": "stream",
          "text": [
            "Enter a number: 4\n"
          ],
          "name": "stdout"
        }
      ]
    },
    {
      "cell_type": "markdown",
      "metadata": {
        "id": "gnMhPBeeHBYu"
      },
      "source": [
        "The sibling of an `if` statement is an accompanying `else` statement: if the statement is `False`, it will get passed to the `else` code. Let's modify the above example to print \"$x$ is not greater than $5$\" when $x\\leq 5$."
      ]
    },
    {
      "cell_type": "code",
      "metadata": {
        "id": "0CgNaXx-jMHZ",
        "colab": {
          "base_uri": "https://localhost:8080/"
        },
        "outputId": "d77c10fa-6526-4fbf-e131-a3fcdd26b080"
      },
      "source": [
        "# Prompt the user and store their response as an integer\r\n",
        "x = int(input('Enter a number: '))\r\n",
        "\r\n",
        "if x > 5:\r\n",
        "  print('x is greater than 5.')\r\n",
        "else:\r\n",
        "  print('x is not greater than 5')"
      ],
      "execution_count": null,
      "outputs": [
        {
          "output_type": "stream",
          "text": [
            "Enter a number: 2\n",
            "x is not greater than 5\n"
          ],
          "name": "stdout"
        }
      ]
    },
    {
      "cell_type": "markdown",
      "metadata": {
        "id": "t64uPSuNHakh"
      },
      "source": [
        "One more thing we can do is an else-if, or `elif`. This lets us break the `else` case into multiple subcases. We'll again modify the above, printing out whether $x$ is exactly, less than, or greater than $5$."
      ]
    },
    {
      "cell_type": "code",
      "metadata": {
        "colab": {
          "base_uri": "https://localhost:8080/"
        },
        "id": "Kr8D0deIHW-f",
        "outputId": "af377645-2355-4f58-fa95-aeb090ee26fd"
      },
      "source": [
        "# Prompt the user and store their response as an integer\r\n",
        "x = int(input('Enter a number: '))\r\n",
        "\r\n",
        "if x > 5:\r\n",
        "  print('x is greater than 5.')\r\n",
        "elif x < 5:\r\n",
        "  print('x is less than 5.')\r\n",
        "else:\r\n",
        "  print('x is exactly 5.')"
      ],
      "execution_count": null,
      "outputs": [
        {
          "output_type": "stream",
          "text": [
            "Enter a number: 4\n",
            "x is less than 5.\n"
          ],
          "name": "stdout"
        }
      ]
    },
    {
      "cell_type": "markdown",
      "metadata": {
        "id": "dQ31WbO0H4Nj"
      },
      "source": [
        "Another type of control flow statement is `while`. Like an `if` statement, it contains a condition, but keeps on repeating the condition as long as it's `True`. Take the following example, where we calculate $x^n$ for positive, integer $n$ using a process called [exponentiation by squaring](https://en.wikipedia.org/wiki/Exponentiation_by_squaring)."
      ]
    },
    {
      "cell_type": "code",
      "metadata": {
        "colab": {
          "base_uri": "https://localhost:8080/"
        },
        "id": "sjXIeAbYHeP9",
        "outputId": "00fa857a-a2a0-4155-f2e4-041ff538b72d"
      },
      "source": [
        "x = float(input('Enter the base: '))\r\n",
        "n = int(input('Enter the exponent: '))\r\n",
        "\r\n",
        "if n == 0:\r\n",
        "  print(f'{x}^{n} = 1')\r\n",
        "else:\r\n",
        "  original_x = x\r\n",
        "  original_n = n\r\n",
        "\r\n",
        "  y = 1\r\n",
        "  while n > 1:\r\n",
        "    if n % 2:\r\n",
        "      y = y*x\r\n",
        "      n -= 1\r\n",
        "    else:\r\n",
        "      x = x*x\r\n",
        "      n //= 2\r\n",
        "\r\n",
        "  result = y*x\r\n",
        "  print(f'{original_x:.2f}^{original_n} = {result:.2f}')"
      ],
      "execution_count": null,
      "outputs": [
        {
          "output_type": "stream",
          "text": [
            "Enter the base: 2\n",
            "Enter the exponent: 23\n",
            "2.00^23 = 8388608.00\n"
          ],
          "name": "stdout"
        }
      ]
    },
    {
      "cell_type": "markdown",
      "metadata": {
        "id": "_PNByovkKila"
      },
      "source": [
        "Finally, something we've now seen already is `for` loops. The word \"for\" makes more sense in Python than in some other languages (like C or Java): we have some collection of items, and we perform an operation on (erego *for*) each item.\r\n",
        "\r\n",
        "Before we saw that this works with lists:"
      ]
    },
    {
      "cell_type": "code",
      "metadata": {
        "colab": {
          "base_uri": "https://localhost:8080/"
        },
        "id": "VfLqZGxWKOUi",
        "outputId": "33cb101c-4420-4273-c80a-8a0c5deedd9b"
      },
      "source": [
        "numbers = [1,2,3,4,5]\r\n",
        "\r\n",
        "for number in numbers:\r\n",
        "  print(number)"
      ],
      "execution_count": null,
      "outputs": [
        {
          "output_type": "stream",
          "text": [
            "1\n",
            "2\n",
            "3\n",
            "4\n",
            "5\n"
          ],
          "name": "stdout"
        }
      ]
    },
    {
      "cell_type": "markdown",
      "metadata": {
        "id": "-UTvyvolK-nV"
      },
      "source": [
        "But it also works with a more general set of things called iterables. One type of these is `range`, which is the way you recover C-like behavior in for loops. Say we want to run some code $17$ times; we could do something like"
      ]
    },
    {
      "cell_type": "code",
      "metadata": {
        "colab": {
          "base_uri": "https://localhost:8080/"
        },
        "id": "dNkIqcTnK9eP",
        "outputId": "19819a5d-89f6-419b-c32b-201bfc66f0da"
      },
      "source": [
        "for i in range(17):\r\n",
        "  print(f'This is iteration {i+1}')"
      ],
      "execution_count": null,
      "outputs": [
        {
          "output_type": "stream",
          "text": [
            "This is iteration 1\n",
            "This is iteration 2\n",
            "This is iteration 3\n",
            "This is iteration 4\n",
            "This is iteration 5\n",
            "This is iteration 6\n",
            "This is iteration 7\n",
            "This is iteration 8\n",
            "This is iteration 9\n",
            "This is iteration 10\n",
            "This is iteration 11\n",
            "This is iteration 12\n",
            "This is iteration 13\n",
            "This is iteration 14\n",
            "This is iteration 15\n",
            "This is iteration 16\n",
            "This is iteration 17\n"
          ],
          "name": "stdout"
        }
      ]
    },
    {
      "cell_type": "markdown",
      "metadata": {
        "id": "PHYryFAWLTWn"
      },
      "source": [
        "Now, for this purpose, the fact that `range` starts from $0$ was obnoxious (though this isn't usually the case, remember arrays are $0$-indexed!). In this case, we can use another argument to start from $1$."
      ]
    },
    {
      "cell_type": "code",
      "metadata": {
        "colab": {
          "base_uri": "https://localhost:8080/"
        },
        "id": "3rhZ3ihpLSSj",
        "outputId": "4b1b6974-8c70-4ad6-d78c-d66673d2091a"
      },
      "source": [
        "for i in range(1, 18):\r\n",
        "  print(f'This is iteration {i}')"
      ],
      "execution_count": null,
      "outputs": [
        {
          "output_type": "stream",
          "text": [
            "This is iteration 1\n",
            "This is iteration 2\n",
            "This is iteration 3\n",
            "This is iteration 4\n",
            "This is iteration 5\n",
            "This is iteration 6\n",
            "This is iteration 7\n",
            "This is iteration 8\n",
            "This is iteration 9\n",
            "This is iteration 10\n",
            "This is iteration 11\n",
            "This is iteration 12\n",
            "This is iteration 13\n",
            "This is iteration 14\n",
            "This is iteration 15\n",
            "This is iteration 16\n",
            "This is iteration 17\n"
          ],
          "name": "stdout"
        }
      ]
    },
    {
      "cell_type": "markdown",
      "metadata": {
        "id": "G8whuNzQLwFa"
      },
      "source": [
        "Finally, we can use a *step* argument. So if we want to print the even numbers from $86$ to $100$ (non-inclusive of $100$), we can write"
      ]
    },
    {
      "cell_type": "code",
      "metadata": {
        "colab": {
          "base_uri": "https://localhost:8080/"
        },
        "id": "prgC84GbLnl6",
        "outputId": "8bf86e53-9577-41f9-9f1a-cd659b8d43ee"
      },
      "source": [
        "for i in range(86, 100, 2):\r\n",
        "  print(f'{i} is an even number')"
      ],
      "execution_count": null,
      "outputs": [
        {
          "output_type": "stream",
          "text": [
            "86 is an even number\n",
            "88 is an even number\n",
            "90 is an even number\n",
            "92 is an even number\n",
            "94 is an even number\n",
            "96 is an even number\n",
            "98 is an even number\n"
          ],
          "name": "stdout"
        }
      ]
    },
    {
      "cell_type": "markdown",
      "metadata": {
        "id": "_-VBNmxFM6d9"
      },
      "source": [
        "# Functions\r\n",
        "\r\n",
        "For some uses, just writing out our code is fine. But a lot of times we want more structure, and we also want to reuse code. This is where *functions* come in."
      ]
    },
    {
      "cell_type": "code",
      "metadata": {
        "id": "8nCN_Pg8MARL",
        "colab": {
          "base_uri": "https://localhost:8080/"
        },
        "outputId": "d868ca64-123f-42df-a867-984e074be8a5"
      },
      "source": [
        "def copy_pasta(lines):\r\n",
        "  for i in range(lines):\r\n",
        "    print('To be fair, you have to have a very high IQ to understand Rick and Morty. The humor is extremely subtle, and without a solid grasp of theoretical physics most of the jokes will go over a typical viewer\\'s head. There\\'s also Rick\\'s nihilistic outlook, which is deftly woven into his characterisation - his personal philosophy draws heavily from Narodnaya Volya literature, for instance. The fans understand this stuff; they have the intellectual capacity to truly appreciate the depths of these jokes, to realize that they\\'re not just funny- they say something deep about LIFE. As a consequence people who dislike Rick and Morty truly ARE idiots- of course they wouldn\\'t appreciate, for instance, the humour in Rick\\'s existencial catchphrase \"Wubba Lubba Dub Dub,\" which itself is a cryptic reference to Turgenev\\'s Russian epic Fathers and Sons I\\'m smirking right now just imagining one of those addlepated simpletons scratching their heads in confusion as Dan Harmon\\'s genius unfolds itself on their television screens. What fools... how I pity them. 😂 And yes by the way, I DO have a Rick and Morty tattoo. And no, you cannot see it. It\\'s for the ladies\\' eyes only- And even they have to demonstrate that they\\'re within 5 IQ points of my own (preferably lower) beforehand.')\r\n",
        "\r\n",
        "copy_pasta(1)\r\n",
        "print()\r\n",
        "copy_pasta(3)"
      ],
      "execution_count": null,
      "outputs": [
        {
          "output_type": "stream",
          "text": [
            "To be fair, you have to have a very high IQ to understand Rick and Morty. The humor is extremely subtle, and without a solid grasp of theoretical physics most of the jokes will go over a typical viewer's head. There's also Rick's nihilistic outlook, which is deftly woven into his characterisation - his personal philosophy draws heavily from Narodnaya Volya literature, for instance. The fans understand this stuff; they have the intellectual capacity to truly appreciate the depths of these jokes, to realize that they're not just funny- they say something deep about LIFE. As a consequence people who dislike Rick and Morty truly ARE idiots- of course they wouldn't appreciate, for instance, the humour in Rick's existencial catchphrase \"Wubba Lubba Dub Dub,\" which itself is a cryptic reference to Turgenev's Russian epic Fathers and Sons I'm smirking right now just imagining one of those addlepated simpletons scratching their heads in confusion as Dan Harmon's genius unfolds itself on their television screens. What fools... how I pity them. 😂 And yes by the way, I DO have a Rick and Morty tattoo. And no, you cannot see it. It's for the ladies' eyes only- And even they have to demonstrate that they're within 5 IQ points of my own (preferably lower) beforehand.\n",
            "\n",
            "To be fair, you have to have a very high IQ to understand Rick and Morty. The humor is extremely subtle, and without a solid grasp of theoretical physics most of the jokes will go over a typical viewer's head. There's also Rick's nihilistic outlook, which is deftly woven into his characterisation - his personal philosophy draws heavily from Narodnaya Volya literature, for instance. The fans understand this stuff; they have the intellectual capacity to truly appreciate the depths of these jokes, to realize that they're not just funny- they say something deep about LIFE. As a consequence people who dislike Rick and Morty truly ARE idiots- of course they wouldn't appreciate, for instance, the humour in Rick's existencial catchphrase \"Wubba Lubba Dub Dub,\" which itself is a cryptic reference to Turgenev's Russian epic Fathers and Sons I'm smirking right now just imagining one of those addlepated simpletons scratching their heads in confusion as Dan Harmon's genius unfolds itself on their television screens. What fools... how I pity them. 😂 And yes by the way, I DO have a Rick and Morty tattoo. And no, you cannot see it. It's for the ladies' eyes only- And even they have to demonstrate that they're within 5 IQ points of my own (preferably lower) beforehand.\n",
            "To be fair, you have to have a very high IQ to understand Rick and Morty. The humor is extremely subtle, and without a solid grasp of theoretical physics most of the jokes will go over a typical viewer's head. There's also Rick's nihilistic outlook, which is deftly woven into his characterisation - his personal philosophy draws heavily from Narodnaya Volya literature, for instance. The fans understand this stuff; they have the intellectual capacity to truly appreciate the depths of these jokes, to realize that they're not just funny- they say something deep about LIFE. As a consequence people who dislike Rick and Morty truly ARE idiots- of course they wouldn't appreciate, for instance, the humour in Rick's existencial catchphrase \"Wubba Lubba Dub Dub,\" which itself is a cryptic reference to Turgenev's Russian epic Fathers and Sons I'm smirking right now just imagining one of those addlepated simpletons scratching their heads in confusion as Dan Harmon's genius unfolds itself on their television screens. What fools... how I pity them. 😂 And yes by the way, I DO have a Rick and Morty tattoo. And no, you cannot see it. It's for the ladies' eyes only- And even they have to demonstrate that they're within 5 IQ points of my own (preferably lower) beforehand.\n",
            "To be fair, you have to have a very high IQ to understand Rick and Morty. The humor is extremely subtle, and without a solid grasp of theoretical physics most of the jokes will go over a typical viewer's head. There's also Rick's nihilistic outlook, which is deftly woven into his characterisation - his personal philosophy draws heavily from Narodnaya Volya literature, for instance. The fans understand this stuff; they have the intellectual capacity to truly appreciate the depths of these jokes, to realize that they're not just funny- they say something deep about LIFE. As a consequence people who dislike Rick and Morty truly ARE idiots- of course they wouldn't appreciate, for instance, the humour in Rick's existencial catchphrase \"Wubba Lubba Dub Dub,\" which itself is a cryptic reference to Turgenev's Russian epic Fathers and Sons I'm smirking right now just imagining one of those addlepated simpletons scratching their heads in confusion as Dan Harmon's genius unfolds itself on their television screens. What fools... how I pity them. 😂 And yes by the way, I DO have a Rick and Morty tattoo. And no, you cannot see it. It's for the ladies' eyes only- And even they have to demonstrate that they're within 5 IQ points of my own (preferably lower) beforehand.\n"
          ],
          "name": "stdout"
        }
      ]
    },
    {
      "cell_type": "markdown",
      "metadata": {
        "id": "mY3bl-pck3RM"
      },
      "source": [
        "Notice how we can call the method twice after defining it once. Functions allow us to save time, lines, and brainpower by re-using otherwise complex or long-winded code segments.\r\n",
        "\r\n",
        "We can also write them to accept input arguments so that we can customize a generally written function:"
      ]
    },
    {
      "cell_type": "code",
      "metadata": {
        "id": "fSa_Xfhmk4J9",
        "colab": {
          "base_uri": "https://localhost:8080/"
        },
        "outputId": "fca1383a-bba1-457c-de6d-34415f94e49e"
      },
      "source": [
        "def y_quadratic_roots(x, a=1,b=1,c=1):\r\n",
        "  root1=(-b+(b**2-4*a*c)**.5)/(2*a)\r\n",
        "  root2=(-b-(b**2-4*a*c)**.5)/(2*a)\r\n",
        "  return root1,root2\r\n",
        "\r\n",
        "root1, root2 = y_quadratic_roots()\r\n",
        "print(f'With one argument, roots are {root1:{1}.{3}}, and, {root2:{1}.{3}}')\r\n",
        "\r\n",
        "root1, root2 = y_quadratic_roots(a=1,b=2,c=1)\r\n",
        "print(f'With optional arguments, roots are, {root1:{1}.{3}}, and, {root2:{1}.{3}}' )\r\n"
      ],
      "execution_count": null,
      "outputs": [
        {
          "output_type": "stream",
          "text": [
            "With one argument, roots are (-0.5+0.866j), and, (-0.5-0.866j)\n",
            "With optional arguments, roots are, -1.0, and, -1.0\n"
          ],
          "name": "stdout"
        }
      ]
    },
    {
      "cell_type": "markdown",
      "metadata": {
        "id": "CJIDLPnEk7em"
      },
      "source": [
        "Importantly, python allows us to write in \"optional\" arguments. We can include these if we need them, or omit them if we don't. When defining the function, optional arguments must always trail the mandatory arguments. It also allows us to return multiple values, the order of which is specified in the function definition."
      ]
    },
    {
      "cell_type": "markdown",
      "metadata": {
        "id": "qDJJryCctAlx"
      },
      "source": [
        "#Using `numpy`"
      ]
    },
    {
      "cell_type": "markdown",
      "metadata": {
        "id": "gpTCoSm1jeSa"
      },
      "source": [
        "`numpy` is a robust math package with many useful inclusions. We'll only look at the few that concern us, but feel free to use the [numpy reference](https://numpy.org/doc/stable/reference/) if you're looking for more. \r\n",
        "\r\n",
        "We primarily use `numpy` for its efficient array implementation. Let's look at how to create and manipulate them:"
      ]
    },
    {
      "cell_type": "code",
      "metadata": {
        "colab": {
          "base_uri": "https://localhost:8080/"
        },
        "id": "6TEjMl5WkYdR",
        "outputId": "e0299140-0da8-4e30-c555-754ccf2b5354"
      },
      "source": [
        "# Include the numpy package, and give it a common shorthand\r\n",
        "\r\n",
        "import numpy as np\r\n",
        "\r\n",
        "oneD= np.array([3,1,4,1,5])\r\n",
        "twoD= np.array([[1,2,3,4,5],[6,7,8,9,10]])\r\n",
        "\r\n",
        "print(f'The following is a one-dimensional array: {oneD}')\r\n",
        "print(f'The following is a two-dimensional array: {twoD}')\r\n",
        "\r\n",
        "print(f'The first element of oneD is {oneD[0]}')\r\n",
        "print(f'The first element of twoD is {twoD[0,0]}')\r\n",
        "\r\n",
        "print(f'The last three elements of twoD are {twoD[1,-3:]}')\r\n",
        "\r\n",
        "print(f'Array multiplication works as you\\'d expect: {np.multiply(twoD,oneD)}')"
      ],
      "execution_count": null,
      "outputs": [
        {
          "output_type": "stream",
          "text": [
            "The following is a one-dimensional array: [3 1 4 1 5]\n",
            "The following is a two-dimensional array: [[ 1  2  3  4  5]\n",
            " [ 6  7  8  9 10]]\n",
            "The first element of oneD is 3\n",
            "The first element of twoD is 1\n",
            "The last three elements of twoD are [ 8  9 10]\n",
            "Array multiplication works as you'd expect: [[ 3  2 12  4 25]\n",
            " [18  7 32  9 50]]\n"
          ],
          "name": "stdout"
        }
      ]
    },
    {
      "cell_type": "markdown",
      "metadata": {
        "id": "GRICZAsplZcU"
      },
      "source": [
        "As you may notice, numpy arrays behave almost identically to Python lists. What differs is the functions we can call on them, like `np.multiply()`. We use `numpy` arrays for many other packages in python, so get used to handling their creation and manipulation."
      ]
    },
    {
      "cell_type": "markdown",
      "metadata": {
        "id": "IxAXuVOVsCnY"
      },
      "source": [
        "# Using `matplotlib`"
      ]
    },
    {
      "cell_type": "markdown",
      "metadata": {
        "id": "33WOxGjAsfAs"
      },
      "source": [
        "Now that we understand the basic of Python programming, we can turn to how it helps us as physicists. Here, we'll look at plotting points and lines in `matplotlib`, a Python library built for just that.\r\n",
        "\r\n",
        "Let's look at how to plot data points first:\r\n",
        "\r\n"
      ]
    },
    {
      "cell_type": "code",
      "metadata": {
        "id": "iA3rEafPs8AM",
        "colab": {
          "base_uri": "https://localhost:8080/",
          "height": 262
        },
        "outputId": "11b9eb9b-f1b8-4025-8c00-13e57cf12f44"
      },
      "source": [
        "import matplotlib.pyplot as plt\r\n",
        "plt.style.use('seaborn-white')\r\n",
        "import numpy as np\r\n",
        "\r\n",
        "# Bring in data. Can expedite this process by exporting portions\r\n",
        "# of your spreadsheet as .csv files\r\n",
        "time = np.array([2,\r\n",
        "3,\r\n",
        "4,\r\n",
        "5,\r\n",
        "6,\r\n",
        "7,\r\n",
        "8,\r\n",
        "9,\r\n",
        "10,\r\n",
        "11,\r\n",
        "12,\r\n",
        "13])\r\n",
        "\r\n",
        "amp = np.array([11.1,\r\n",
        "7.9,\r\n",
        "5.6,\r\n",
        "4,\r\n",
        "2.9,\r\n",
        "2,\r\n",
        "1.5,\r\n",
        "1,\r\n",
        "0.7,\r\n",
        "0.6,\r\n",
        "0.5,\r\n",
        "0.4])\r\n",
        "\r\n",
        "plt.scatter(time, amp)\r\n",
        "plt.show()"
      ],
      "execution_count": null,
      "outputs": [
        {
          "output_type": "display_data",
          "data": {
            "image/png": "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\n",
            "text/plain": [
              "<Figure size 432x288 with 1 Axes>"
            ]
          },
          "metadata": {
            "tags": []
          }
        }
      ]
    },
    {
      "cell_type": "markdown",
      "metadata": {
        "id": "oWvVWAT_p6mT"
      },
      "source": [
        "This is great and all, but what if we want to make this plot presentable? We'd need labels, legends, and most importantly, error bars. Let's fix this."
      ]
    },
    {
      "cell_type": "code",
      "metadata": {
        "colab": {
          "base_uri": "https://localhost:8080/",
          "height": 291
        },
        "id": "ZXNSzFRWqJYl",
        "outputId": "c1e8ded3-5b63-4c3b-a142-70d8ffc82bc5"
      },
      "source": [
        "import matplotlib.pyplot as plt\r\n",
        "import numpy as np\r\n",
        "\r\n",
        "time = np.array([2,\r\n",
        "3,\r\n",
        "4,\r\n",
        "5,\r\n",
        "6,\r\n",
        "7,\r\n",
        "8,\r\n",
        "9,\r\n",
        "10,\r\n",
        "11,\r\n",
        "12,\r\n",
        "13])\r\n",
        "\r\n",
        "amp = np.array([11.1,\r\n",
        "7.9,\r\n",
        "5.6,\r\n",
        "4,\r\n",
        "2.9,\r\n",
        "2,\r\n",
        "1.5,\r\n",
        "1,\r\n",
        "0.7,\r\n",
        "0.6,\r\n",
        "0.5,\r\n",
        "0.4])\r\n",
        "\r\n",
        "\r\n",
        "plt.errorbar(time, amp, xerr= .2, yerr=.5, fmt='.k')\r\n",
        "plt.xlabel('Time [s]')\r\n",
        "plt.ylabel('Amplitude [cm]')\r\n",
        "plt.title('Oscillation Decay Over Time')\r\n",
        "plt.show()"
      ],
      "execution_count": null,
      "outputs": [
        {
          "output_type": "display_data",
          "data": {
            "image/png": "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\n",
            "text/plain": [
              "<Figure size 432x288 with 1 Axes>"
            ]
          },
          "metadata": {
            "tags": []
          }
        }
      ]
    },
    {
      "cell_type": "markdown",
      "metadata": {
        "id": "nUcckVEkJ2o-"
      },
      "source": [
        "If we need to create individual errors specific to each of the data points, we can do that too:\r\n"
      ]
    },
    {
      "cell_type": "code",
      "metadata": {
        "colab": {
          "base_uri": "https://localhost:8080/",
          "height": 291
        },
        "id": "qlzqoduZKAqI",
        "outputId": "c8e28b3b-2cfc-4993-dc24-b324691b30e0"
      },
      "source": [
        "error = np.array([1,\r\n",
        "                  .9,\r\n",
        "                  .8,\r\n",
        "                  .7,\r\n",
        "                  .6,\r\n",
        "                  .5,\r\n",
        "                  .4,\r\n",
        "                  .3,\r\n",
        "                  .2,\r\n",
        "                  .2,\r\n",
        "                  .2,\r\n",
        "                  .2,\r\n",
        "                  ])\r\n",
        "plt.errorbar(time, amp, xerr= .2, yerr=error, fmt='.k')\r\n",
        "plt.xlabel('Time [s]')\r\n",
        "plt.ylabel('Amplitude [cm]')\r\n",
        "plt.title('Oscillation Decay Over Time')\r\n",
        "plt.show()"
      ],
      "execution_count": null,
      "outputs": [
        {
          "output_type": "display_data",
          "data": {
            "image/png": "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\n",
            "text/plain": [
              "<Figure size 432x288 with 1 Axes>"
            ]
          },
          "metadata": {
            "tags": []
          }
        }
      ]
    },
    {
      "cell_type": "markdown",
      "metadata": {
        "id": "HvC-m_DYrptu"
      },
      "source": [
        "Great, we have our data points plotted. Now we need to wrap everything together by finding the fit."
      ]
    },
    {
      "cell_type": "markdown",
      "metadata": {
        "id": "u4Um8IAKsF0h"
      },
      "source": [
        "# Using `scipy`"
      ]
    },
    {
      "cell_type": "markdown",
      "metadata": {
        "id": "0TPie1r9vfvm"
      },
      "source": [
        "Finally we can get to fitting experimental data and plotting the results. We do so with the help of the `scipy` package, which has many other features which may be of interest to you (see https://docs.scipy.org/doc/scipy/reference/). \r\n",
        "\r\n",
        "Let's run through an example and talk about the aftermath:"
      ]
    },
    {
      "cell_type": "code",
      "metadata": {
        "colab": {
          "base_uri": "https://localhost:8080/",
          "height": 309
        },
        "id": "rCVHVHRWwJ1B",
        "outputId": "353d7696-ed66-49a4-c374-dff269c2d29a"
      },
      "source": [
        "# Bring in the important function which allows us to fit data\r\n",
        "from scipy.optimize import curve_fit\r\n",
        "\r\n",
        "\r\n",
        "# OPTIONAL: include individual x and y error values with additional arrays \r\n",
        "\r\n",
        "\r\n",
        "\r\n",
        "# Define the function we believe will fit our data, as well as the parameters\r\n",
        "\r\n",
        "def fit_function(x, a, b):\r\n",
        "  return a* np.exp(b*x)\r\n",
        "\r\n",
        "# Fit the data. Returns:\r\n",
        "# popt: values for the parameters\r\n",
        "# pcov: covariance matrix. Typically we are interested in only its diagonal \r\n",
        "# elements, the variances of each parameter \r\n",
        "# Note: curve_fit does not take xerror into account. \r\n",
        "popt, pcov = curve_fit(fit_function, time, amp)\r\n",
        "\r\n",
        "# Plot our error bars. If using individual errors, replace the scalar with\r\n",
        "# the np.array() of errors\r\n",
        "plt.errorbar(time, amp, yerr=error, xerr= .2, fmt='.k');\r\n",
        "\r\n",
        "# Show our fit over the error bars. Label includes LaTeX code, which also \r\n",
        "# requires a different type of string formatting.\r\n",
        "# Note: use a 'continuous' value on the x axis to smooth the line \r\n",
        "\r\n",
        "x= np.linspace(2,13,100)\r\n",
        "plt.plot(x, fit_function(x, *popt),'b:', \r\n",
        "         label= r'fit: $A= %1.2f e^{%1.3f t}$' % tuple(popt))\r\n",
        "\r\n",
        "plt.xlabel('Time [s]')\r\n",
        "plt.ylabel('Amplitude [cm]')\r\n",
        "plt.title('Oscillation Decay Over Time')\r\n",
        "plt.legend()  \r\n",
        "plt.show()\r\n",
        "\r\n",
        "var = tuple(np.sqrt(np.diag(pcov)))\r\n",
        "# Since we want the standard deviation, we take the root of the variances\r\n",
        "print(f'Standard deviation of a and b are {var[0]:{1}.{3}} and {var[1]:{1}.{3}}' \r\n",
        "      )"
      ],
      "execution_count": null,
      "outputs": [
        {
          "output_type": "display_data",
          "data": {
            "image/png": "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\n",
            "text/plain": [
              "<Figure size 432x288 with 1 Axes>"
            ]
          },
          "metadata": {
            "tags": []
          }
        },
        {
          "output_type": "stream",
          "text": [
            "Standard deviation of a and b are 0.221 and 0.00303\n"
          ],
          "name": "stdout"
        }
      ]
    },
    {
      "cell_type": "markdown",
      "metadata": {
        "id": "LZ5lcROislRo"
      },
      "source": [
        "Observe that our code differed in only a few areas from when we were only plotting the data points. `scipy` makes the process of fitting and plotting relatively simple, with one main drawback: it ignores error in x. This is normally not a huge deal in our labs. \r\n"
      ]
    }
  ]
}
